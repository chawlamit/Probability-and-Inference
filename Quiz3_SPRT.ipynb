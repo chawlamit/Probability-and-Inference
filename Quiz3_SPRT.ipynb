{
 "cells": [
  {
   "cell_type": "markdown",
   "metadata": {},
   "source": [
    "### Quiz3 - Sequential Probability Ratio Testing              \n",
    "              By Amit Chawla and Fatima AlSaadeh"
   ]
  },
  {
   "cell_type": "code",
   "execution_count": 126,
   "metadata": {},
   "outputs": [],
   "source": [
    "likelihood.log <- function(x , n , p) {\n",
    "  (x * log(p)) + ((n-x) *log(1-p))\n",
    "}\n",
    "\n",
    "my.SPRT <- function(x, p.0=.45, p.1=.55, alpha.0=0.01, alpha.1=0.01, n, prelr) {\n",
    "  lr <- likelihood.log(x, n, p.1) - likelihood.log(x, n, p.0) + prelr\n",
    "  \n",
    "  a <- log(alpha.1/(1-alpha.0))\n",
    "  b <- log((1-alpha.1)/alpha.0)\n",
    "    \n",
    "  if(lr <= a | lr >= b) {\n",
    "    if(lr <= a)\n",
    "      result <- \"Accept p.0\"\n",
    "\n",
    "    else if(lr >= b)  {\n",
    "      result <- \"Accept p.1\"\n",
    "    }\n",
    "\n",
    "  } else {\n",
    "    result <- \"Continue\"\n",
    "  }\n",
    "\n",
    "  list(result=result ,prelr=lr)\n",
    "}"
   ]
  },
  {
   "cell_type": "code",
   "execution_count": 127,
   "metadata": {},
   "outputs": [],
   "source": [
    "simulate = function(p){\n",
    "    n = 1\n",
    "    prelr = 0\n",
    "    while(TRUE) {\n",
    "        y = rbinom(1,1, p)\n",
    "        my.sprt.values = my.SPRT(y, n=1, prelr=prelr)\n",
    "        if (my.sprt.values$result != \"Continue\"){\n",
    "            break\n",
    "        }\n",
    "        prelr = my.sprt.values$prelr\n",
    "#         print(prelr)\n",
    "        n=n+1\n",
    "    }\n",
    "    print(n)\n",
    "    print(my.sprt.values)\n",
    "}"
   ]
  },
  {
   "cell_type": "code",
   "execution_count": 128,
   "metadata": {},
   "outputs": [
    {
     "name": "stdout",
     "output_type": "stream",
     "text": [
      "[1] 71\n",
      "$result\n",
      "[1] \"Accept p.0\"\n",
      "\n",
      "$prelr\n",
      "[1] -4.615426\n",
      "\n"
     ]
    }
   ],
   "source": [
    "simulate(0.3)"
   ]
  },
  {
   "cell_type": "code",
   "execution_count": 62,
   "metadata": {},
   "outputs": [
    {
     "name": "stdout",
     "output_type": "stream",
     "text": [
      "[1] 253\n",
      "$result\n",
      "[1] \"Accept p.1\"\n",
      "\n",
      "$prelr\n",
      "[1] 4.615426\n",
      "\n"
     ]
    }
   ],
   "source": [
    "simulate(0.56)"
   ]
  },
  {
   "cell_type": "markdown",
   "metadata": {},
   "source": [
    "#### Expected result for 0.54\n",
    "- As probability goes closer to one of the hypothesis, subsequently the likelihood ratio converges to the either the lower bound A or the upper bound B.\n",
    "- Therefore, since 0.54 is closer to P = 0.56 (Hypothesis 1), the likelihood ratio will converge to the upper bound B = 4.59512, consequently resulting in the acceptance of Hypothesis 1"
   ]
  },
  {
   "cell_type": "code",
   "execution_count": 129,
   "metadata": {},
   "outputs": [
    {
     "name": "stdout",
     "output_type": "stream",
     "text": [
      "[1] 275\n",
      "$result\n",
      "[1] \"Accept p.1\"\n",
      "\n",
      "$prelr\n",
      "[1] 4.615426\n",
      "\n"
     ]
    }
   ],
   "source": [
    "simulate(0.54)"
   ]
  },
  {
   "cell_type": "markdown",
   "metadata": {},
   "source": [
    "### Result\n",
    "As per our expectation, for P = 0.54, Hypothesis 1 (P=0.56) is accepted."
   ]
  }
 ],
 "metadata": {
  "kernelspec": {
   "display_name": "R",
   "language": "R",
   "name": "ir"
  },
  "language_info": {
   "codemirror_mode": "r",
   "file_extension": ".r",
   "mimetype": "text/x-r-source",
   "name": "R",
   "pygments_lexer": "r",
   "version": "3.6.1"
  }
 },
 "nbformat": 4,
 "nbformat_minor": 4
}
