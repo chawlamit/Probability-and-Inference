{
 "cells": [
  {
   "cell_type": "markdown",
   "metadata": {},
   "source": [
    "### Assignmnt 2: Bootstrap and Jacknife\n",
    "\n",
    "#### Lets compare the bootstrap, normal and jacknife confidence intervals for mean statistic."
   ]
  },
  {
   "cell_type": "code",
   "execution_count": 99,
   "metadata": {},
   "outputs": [],
   "source": [
    "bootstrap <- function(data, nboot = 10000, alpha = 0.05){\n",
    "    n = length(data)\n",
    "    mean_o = mean(data)\n",
    "    sd_o = sqrt(var(data))\n",
    "    \n",
    "    Tboot_vec = rep(NA, nboot)\n",
    "    bias_vec = rep(NA, nboot)\n",
    "    # Bootrstrap loop\n",
    "    for (i in 1:nboot){\n",
    "        # resample from the actual data with replacement to get the bootstrap sampling distribution\n",
    "        x_star <- sample(data, replace=TRUE)\n",
    "        # calculate mean and sd for the bootstrapped data\n",
    "        boot.mean = mean(x_star)\n",
    "        boot.sd = sqrt(var(x_star))\n",
    "        # Calculate boot vector\n",
    "        Tboot_vec[i] = (boot.mean - mean_o) / (boot.sd / sqrt(n))\n",
    "        # calculate the bias vector\n",
    "        bias_vec[i] = boot.mean - mean_o\n",
    "        \n",
    "    }\n",
    "    # bias in the statistic\n",
    "    boot.bias = mean(bias_vec)\n",
    "    \n",
    "    # Percentile Interval\n",
    "    percentile = c(quantile(Tboot_vec, alpha/2), quantile(Tboot_vec, 1-alpha/2))\n",
    "    # Pivotal Interval\n",
    "    pivotal = c(mean_o - (sd_o/sqrt(n))*percentile[2], mean_o - (sd_o/sqrt(n))*percentile[1])\n",
    "    # Normal Confidence Interval\n",
    "    normal = c(mean_o - (sd_o/sqrt(n))*qnorm(1-alpha/2), mean_o + (sd_o/sqrt(n))*qnorm(1-alpha/2))\n",
    "    \n",
    "    return(list(confidence.boot=pivotal, confidence.normal = normal, bias = boot.bias))\n",
    "}"
   ]
  },
  {
   "cell_type": "code",
   "execution_count": 116,
   "metadata": {},
   "outputs": [],
   "source": [
    "Jackknife <- function(v1,statfunc=sd, alpha=0.05){\n",
    "    \n",
    "    n1<-length(v1)\n",
    "    jackvec<-NULL\n",
    "    mu0<-statfunc(v1)\n",
    "    for(i in 1:n1){\n",
    "        mua<-statfunc(v1[-i])\n",
    "        jackvec<-c(jackvec, n1*(mu0)-(n1-1)*mua)\n",
    "    }\n",
    "    jackbias<-mean(jackvec)-mu0\n",
    "    jacksd<-sd(jackvec)\n",
    "    JLB<-mean(jackvec)-(jacksd/sqrt(n1))*qnorm(1-alpha/2)\n",
    "    JUB<-mean(jackvec)+(jacksd/sqrt(n1))*qnorm(1-alpha/2)\n",
    "\n",
    "    return(list(mu0=mu0,jackbias=jackbias,jacksd=jacksd, \n",
    "       confidence.interval = c(JLB, JUB)))\n",
    "}"
   ]
  },
  {
   "cell_type": "code",
   "execution_count": 103,
   "metadata": {},
   "outputs": [],
   "source": [
    "simulator <- function(mu.norm = 3, n = 30, n_sim = 1000){\n",
    "    # n -> sample size\n",
    "    \n",
    "    #coverage vectors for bootstrap and normal confidence interval\n",
    "    cvec.boot = NULL\n",
    "    cvec.normal = NULL\n",
    "    cvec.jack = NULL\n",
    "    \n",
    "    # True value of mean\n",
    "    mu.lnorm = exp(mu.norm + 1/2) \n",
    "    print(\"Actual mean: \")\n",
    "    print(mu.lnorm)\n",
    "    # start the simulation\n",
    "    for(i in 1:n_sim){\n",
    "        # to know that simulation is running\n",
    "        if((i/100)==floor(i/100)){\n",
    "          print(i)\n",
    "        }\n",
    "        # Sample from rlognormal distribution\n",
    "        X <- rlnorm(n, mu.norm)\n",
    "        # now, let's bootstrap it\n",
    "        boot_list = bootstrap(X, nboot=10000)\n",
    "#         print(boot_list)\n",
    "        # Now, Jacknife it\n",
    "        jack_list = Jackknife(X, statfunc=mean, alpha = 0.05)\n",
    "        \n",
    "#       print(result)\n",
    "        # bootstrap coverage vector\n",
    "        cvec.boot = c(cvec.boot, (boot_list$confidence.boot[1] < mu.lnorm)*(boot_list$confidence.boot[2] > mu.lnorm))\n",
    "        # normal coverage vector\n",
    "        cvec.normal = c(cvec.normal, (boot_list$confidence.normal[1] < mu.lnorm)*(boot_list$confidence.normal[2] > mu.lnorm))\n",
    "        # jacknife coverage vector\n",
    "        cvec.jack = c(cvec.jack, (jack_list$confidence.interval[1]<mu.lnorm)*(jack_list$confidence.interval[2]>mu.lnorm))\n",
    "    }\n",
    "    \n",
    "    return(list(boot.coverage=(sum(cvec.boot)/n_sim),\n",
    "                norm.coverage=(sum(cvec.normal)/n_sim), \n",
    "                jack.coverage=(sum(cvec.jack)/n_sim)))\n",
    "}"
   ]
  },
  {
   "cell_type": "code",
   "execution_count": 104,
   "metadata": {},
   "outputs": [
    {
     "name": "stdout",
     "output_type": "stream",
     "text": [
      "[1] \"Actual mean: \"\n",
      "[1] 244.6919\n",
      "[1] 100\n",
      "[1] 200\n",
      "[1] 300\n",
      "[1] 400\n",
      "[1] 500\n",
      "[1] 600\n",
      "[1] 700\n",
      "[1] 800\n",
      "[1] 900\n",
      "[1] 1000\n"
     ]
    },
    {
     "data": {
      "text/html": [
       "<dl>\n",
       "\t<dt>$boot.coverage</dt>\n",
       "\t\t<dd>0.908</dd>\n",
       "\t<dt>$norm.coverage</dt>\n",
       "\t\t<dd>0.798</dd>\n",
       "\t<dt>$jack.coverage</dt>\n",
       "\t\t<dd>0.798</dd>\n",
       "</dl>\n"
      ],
      "text/latex": [
       "\\begin{description}\n",
       "\\item[\\$boot.coverage] 0.908\n",
       "\\item[\\$norm.coverage] 0.798\n",
       "\\item[\\$jack.coverage] 0.798\n",
       "\\end{description}\n"
      ],
      "text/markdown": [
       "$boot.coverage\n",
       ":   0.908\n",
       "$norm.coverage\n",
       ":   0.798\n",
       "$jack.coverage\n",
       ":   0.798\n",
       "\n",
       "\n"
      ],
      "text/plain": [
       "$boot.coverage\n",
       "[1] 0.908\n",
       "\n",
       "$norm.coverage\n",
       "[1] 0.798\n",
       "\n",
       "$jack.coverage\n",
       "[1] 0.798\n"
      ]
     },
     "metadata": {},
     "output_type": "display_data"
    }
   ],
   "source": [
    "simulator(mu.norm=5, n=10, n_sim=1000)"
   ]
  },
  {
   "cell_type": "code",
   "execution_count": 105,
   "metadata": {},
   "outputs": [
    {
     "name": "stdout",
     "output_type": "stream",
     "text": [
      "[1] \"Actual mean: \"\n",
      "[1] 244.6919\n",
      "[1] 100\n",
      "[1] 200\n",
      "[1] 300\n",
      "[1] 400\n",
      "[1] 500\n",
      "[1] 600\n",
      "[1] 700\n",
      "[1] 800\n",
      "[1] 900\n",
      "[1] 1000\n"
     ]
    },
    {
     "data": {
      "text/html": [
       "<dl>\n",
       "\t<dt>$boot.coverage</dt>\n",
       "\t\t<dd>0.927</dd>\n",
       "\t<dt>$norm.coverage</dt>\n",
       "\t\t<dd>0.867</dd>\n",
       "\t<dt>$jack.coverage</dt>\n",
       "\t\t<dd>0.867</dd>\n",
       "</dl>\n"
      ],
      "text/latex": [
       "\\begin{description}\n",
       "\\item[\\$boot.coverage] 0.927\n",
       "\\item[\\$norm.coverage] 0.867\n",
       "\\item[\\$jack.coverage] 0.867\n",
       "\\end{description}\n"
      ],
      "text/markdown": [
       "$boot.coverage\n",
       ":   0.927\n",
       "$norm.coverage\n",
       ":   0.867\n",
       "$jack.coverage\n",
       ":   0.867\n",
       "\n",
       "\n"
      ],
      "text/plain": [
       "$boot.coverage\n",
       "[1] 0.927\n",
       "\n",
       "$norm.coverage\n",
       "[1] 0.867\n",
       "\n",
       "$jack.coverage\n",
       "[1] 0.867\n"
      ]
     },
     "metadata": {},
     "output_type": "display_data"
    }
   ],
   "source": [
    "simulator(mu.norm=5, n=30, n_sim=1000)"
   ]
  },
  {
   "cell_type": "code",
   "execution_count": 106,
   "metadata": {},
   "outputs": [
    {
     "name": "stdout",
     "output_type": "stream",
     "text": [
      "[1] \"Actual mean: \"\n",
      "[1] 244.6919\n",
      "[1] 100\n",
      "[1] 200\n",
      "[1] 300\n",
      "[1] 400\n",
      "[1] 500\n",
      "[1] 600\n",
      "[1] 700\n",
      "[1] 800\n",
      "[1] 900\n",
      "[1] 1000\n"
     ]
    },
    {
     "data": {
      "text/html": [
       "<dl>\n",
       "\t<dt>$boot.coverage</dt>\n",
       "\t\t<dd>0.937</dd>\n",
       "\t<dt>$norm.coverage</dt>\n",
       "\t\t<dd>0.922</dd>\n",
       "\t<dt>$jack.coverage</dt>\n",
       "\t\t<dd>0.922</dd>\n",
       "</dl>\n"
      ],
      "text/latex": [
       "\\begin{description}\n",
       "\\item[\\$boot.coverage] 0.937\n",
       "\\item[\\$norm.coverage] 0.922\n",
       "\\item[\\$jack.coverage] 0.922\n",
       "\\end{description}\n"
      ],
      "text/markdown": [
       "$boot.coverage\n",
       ":   0.937\n",
       "$norm.coverage\n",
       ":   0.922\n",
       "$jack.coverage\n",
       ":   0.922\n",
       "\n",
       "\n"
      ],
      "text/plain": [
       "$boot.coverage\n",
       "[1] 0.937\n",
       "\n",
       "$norm.coverage\n",
       "[1] 0.922\n",
       "\n",
       "$jack.coverage\n",
       "[1] 0.922\n"
      ]
     },
     "metadata": {},
     "output_type": "display_data"
    }
   ],
   "source": [
    "simulator(mu.norm=5, n=100, n_sim=1000)"
   ]
  },
  {
   "cell_type": "markdown",
   "metadata": {},
   "source": [
    "### Observations\n",
    "\n",
    "- The coverage increases as the number of data points we draw go up which is in direct coherence with our intution because the more data we have, all our techniques will give us a better confidence intervals for our statistic leading to better coverage.\n",
    "- Bootstrap confidence interval is significantly better than the normal and jacknife intervals, as the coverage for bootstrap is consistently high, even with smaller number of datapoints.\n",
    "\n",
    "\n",
    "\n"
   ]
  },
  {
   "cell_type": "markdown",
   "metadata": {},
   "source": [
    "#### For the standard deviation of the normal distribution, estimate the bias of the the sample standard deviation when dividing by n, compare the bootstrap and the jacknife(1000 simulations)"
   ]
  },
  {
   "cell_type": "code",
   "execution_count": 115,
   "metadata": {},
   "outputs": [],
   "source": [
    "# bootstrap implementation for sd/n\n",
    "bootstrap_sd <- function(data, nboot = 10000){\n",
    "    n = length(data)\n",
    "    sd_by_n_o = sd(data) / n\n",
    "    \n",
    "    Tboot_vec = rep(NA, nboot)\n",
    "    bias_vec = rep(NA, nboot)\n",
    "    # Bootrstrap loop\n",
    "    for (i in 1:nboot){\n",
    "        # resample from the actual data with replacement to get the bootstrap sampling distribution\n",
    "        x_star <- sample(data, replace=TRUE)\n",
    "        # calculate sd/n which is basically the s\n",
    "        boot.sd_by_n = sd(x_star) / n\n",
    "        \n",
    "        # Calculate boot vector\n",
    "        Tboot_vec[i] = boot.sd_by_n\n",
    "        # calculate the bias vector\n",
    "        bias_vec[i] = boot.sd_by_n - sd_by_n_o\n",
    "    }\n",
    "    # bias in the statistic\n",
    "    return(mean(bias_vec))\n",
    "}"
   ]
  },
  {
   "cell_type": "code",
   "execution_count": 125,
   "metadata": {},
   "outputs": [],
   "source": [
    "standard_deviation_by_n <- function(data){\n",
    "    n = length(data)\n",
    "    return(sd(data)/n)\n",
    "}"
   ]
  },
  {
   "cell_type": "code",
   "execution_count": 134,
   "metadata": {},
   "outputs": [],
   "source": [
    "# Simulation function for part 4\n",
    "simulator <- function(mu.norm = 5, sd = 2, n = 30, n_sim = 1000){\n",
    "    # n -> sample size\n",
    "    \n",
    "    #coverage vectors for bootstrap and normal confidence interval\n",
    "    bias_vec.boot = NULL\n",
    "    bias_vec.jack = NULL\n",
    "\n",
    "    # True value of sd\n",
    "    print(\"True value of sd/n \")\n",
    "    print(sd/n)\n",
    "    # start the simulation\n",
    "    for(i in 1:n_sim){\n",
    "        # to know that simulation is running\n",
    "        if((i/100)==floor(i/100)){\n",
    "          print(i)\n",
    "        }\n",
    "        # Sample from rlognormal distribution\n",
    "        X <- rnorm(n, mean=mu.norm, sd=sd)\n",
    "        # now, let's get the bootstrap bias\n",
    "        bias_vec.boot = c(bias_vec.boot, bootstrap_sd(X, nboot=10000))\n",
    "        # Now, let's get the Jacknife group\n",
    "        jack_list = Jackknife(X, statfunc=standard_deviation_by_n, alpha = 0.05)\n",
    "        bias_vec.jack = c(bias_vec.jack, jack_list$jackbias)\n",
    "    }\n",
    "\n",
    "    return(list(boot_bias = bias_vec.boot, jack_bias = bias_vec.jack))\n",
    "}"
   ]
  },
  {
   "cell_type": "code",
   "execution_count": 135,
   "metadata": {},
   "outputs": [
    {
     "name": "stdout",
     "output_type": "stream",
     "text": [
      "[1] \"True value of sd/n \"\n",
      "[1] 0.06666667\n",
      "[1] 100\n",
      "[1] 200\n",
      "[1] 300\n",
      "[1] 400\n",
      "[1] 500\n",
      "[1] 600\n",
      "[1] 700\n",
      "[1] 800\n",
      "[1] 900\n",
      "[1] 1000\n"
     ]
    }
   ],
   "source": [
    "bias_list = simulator(mu.norm=5, sd=2, n=30, n_sim=1000)"
   ]
  },
  {
   "cell_type": "code",
   "execution_count": 137,
   "metadata": {},
   "outputs": [
    {
     "data": {
      "image/png": "[encoded data removed]",
      "text/plain": [
       "Plot with title “Histogram of bias_list$boot_bias”"
      ]
     },
     "metadata": {},
     "output_type": "display_data"
    }
   ],
   "source": [
    "hist(bias_list$boot_bias)"
   ]
  },
  {
   "cell_type": "code",
   "execution_count": 138,
   "metadata": {},
   "outputs": [
    {
     "data": {
      "image/png": "[encoded data removed]",
      "text/plain": [
       "Plot with title “Histogram of bias_list$jack_bias”"
      ]
     },
     "metadata": {},
     "output_type": "display_data"
    }
   ],
   "source": [
    "hist(bias_list$jack_bias)"
   ]
  },
  {
   "cell_type": "markdown",
   "metadata": {},
   "source": [
    "### Observations\n",
    "- Jacknife has much larger absolute values of bias as compared to bootstrap bias\n",
    "- Bias from both jacknife and bootstrap is approximately normally distributed"
   ]
  }
 ],
 "metadata": {
  "kernelspec": {
   "display_name": "R",
   "language": "R",
   "name": "ir"
  },
  "language_info": {
   "codemirror_mode": "r",
   "file_extension": ".r",
   "mimetype": "text/x-r-source",
   "name": "R",
   "pygments_lexer": "r",
   "version": "3.6.1"
  }
 },
 "nbformat": 4,
 "nbformat_minor": 4
}
